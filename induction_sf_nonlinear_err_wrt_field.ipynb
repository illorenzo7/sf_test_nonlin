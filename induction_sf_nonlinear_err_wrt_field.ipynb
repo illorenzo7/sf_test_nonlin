{
 "cells": [
  {
   "cell_type": "code",
   "execution_count": 1,
   "id": "75471414",
   "metadata": {
    "scrolled": false
   },
   "outputs": [
    {
     "data": {
      "text/plain": [
       "['/pleiades/home1/lmatilsk/sf_test_nonlin',\n",
       " '/home1/lmatilsk/miniconda3/envs/custom/lib/python37.zip',\n",
       " '/home1/lmatilsk/miniconda3/envs/custom/lib/python3.7',\n",
       " '/home1/lmatilsk/miniconda3/envs/custom/lib/python3.7/lib-dynload',\n",
       " '',\n",
       " '/home1/lmatilsk/miniconda3/envs/custom/lib/python3.7/site-packages',\n",
       " '/home1/lmatilsk/miniconda3/envs/custom/lib/python3.7/site-packages/IPython/extensions',\n",
       " '/lou/la2/lmatilsk/.ipython',\n",
       " '/home1/lmatilsk/rayleigh/code/post_processing',\n",
       " '/home1/lmatilsk/rayleigh/utils/compute',\n",
       " '/home1/lmatilsk/rayleigh/code/post_processing']"
      ]
     },
     "execution_count": 1,
     "metadata": {},
     "output_type": "execute_result"
    }
   ],
   "source": [
    "%matplotlib inline\n",
    "import sys, os\n",
    "import numpy as np\n",
    "import matplotlib.pyplot as plt\n",
    "sys.path.append(os.environ['rapp'])\n",
    "sys.path.append(os.environ['raco'])\n",
    "from rayleigh_diagnostics import Shell_Spectra, Shell_Slices, GridInfo\n",
    "from reference_tools import equation_coefficients\n",
    "import common\n",
    "sys.path"
   ]
  },
  {
   "cell_type": "code",
   "execution_count": 2,
   "id": "050f6415",
   "metadata": {},
   "outputs": [
    {
     "name": "stdout",
     "output_type": "stream",
     "text": [
      "/nobackup/lmatilsk/case_M-Prm4.0_fixedAeq/00_induction_nonlinear_nt768_dealias0/\n"
     ]
    }
   ],
   "source": [
    "#dirname = '/nobackup/lmatilsk/benchmarks/j2011_mhd/00_induction_nonlinear/'\n",
    "#dirtag = 'j2011_bench'\n",
    "\n",
    "#dirname = '/nobackup/lmatilsk/benchmarks/j2011_mhd/00_induction_nonlinear_dealias0/'\n",
    "#dirtag = 'j2011_bench_dealias0'\n",
    "\n",
    "#dirname = '/nobackup/lmatilsk/case_M-Prm4.0_fixedAeq/00_induction_nonlinear/'\n",
    "#dirtag = 'caseM_orig'\n",
    "\n",
    "#dirname = '/nobackup/lmatilsk/case_M-Prm4.0_fixedAeq/00_induction_nonlinear_nt768/'\n",
    "#dirtag = 'caseM_nt768'\n",
    "\n",
    "dirname = '/nobackup/lmatilsk/case_M-Prm4.0_fixedAeq/00_induction_nonlinear_nt768_dealias0/'\n",
    "dirtag = 'caseM_nt768_dealias0'\n",
    "\n",
    "#dirname = '/nobackup/lmatilsk/case_M-Prm4.0_fixedAeq/00_induction_nonlinear_nt1536/'\n",
    "#dirtag = 'caseM_nt1536'\n",
    "\n",
    "print (dirname)"
   ]
  },
  {
   "cell_type": "code",
   "execution_count": 3,
   "id": "6a8f91a8",
   "metadata": {},
   "outputs": [
    {
     "name": "stdout",
     "output_type": "stream",
     "text": [
      "/nobackup/lmatilsk/case_M-Prm4.0_fixedAeq/00_induction_nonlinear_nt768_dealias0/Shell_Spectra/26550025\n"
     ]
    }
   ],
   "source": [
    "radatadir = dirname + 'Shell_Spectra/'\n",
    "the_file = radatadir + os.listdir(radatadir)[0]\n",
    "spec = Shell_Spectra(the_file,'')\n",
    "print(the_file)"
   ]
  },
  {
   "cell_type": "code",
   "execution_count": 4,
   "id": "4d8ace04",
   "metadata": {
    "scrolled": true
   },
   "outputs": [
    {
     "name": "stdout",
     "output_type": "stream",
     "text": [
      "irvals =  [ 13  21  31  42  63 136 154 167 177]\n",
      "r/rsun =  [0.92257665 0.88888912 0.83548624 0.77648689 0.71870059 0.66109085\n",
      " 0.6034544  0.5476774  0.51231082]\n",
      "qvals =  [ 801  802  803 1604 1609 1614 2911 2912 2913]\n"
     ]
    }
   ],
   "source": [
    "# break up data\n",
    "vals = spec.vals\n",
    "\n",
    "times =  spec.time\n",
    "dt = times[2:] - times[1:-1]\n",
    "dt = dt.reshape((1, 1, 1, len(dt)))\n",
    "dt_old = times[1:-1] - times[:-2]\n",
    "dt_old = dt_old.reshape((1, 1, 1, len(dt_old)))\n",
    "\n",
    "lut = spec.lut\n",
    "irvals = spec.inds\n",
    "\n",
    "print ('irvals = ', irvals)\n",
    "print ('r/rsun = ', spec.radius/common.rsun)\n",
    "print ('qvals = ', spec.qv)"
   ]
  },
  {
   "cell_type": "code",
   "execution_count": 5,
   "id": "c84673f4",
   "metadata": {},
   "outputs": [
    {
     "name": "stdout",
     "output_type": "stream",
     "text": [
      "(512, 512, 9, 9, 25)\n"
     ]
    }
   ],
   "source": [
    "print (np.shape(vals))"
   ]
  },
  {
   "cell_type": "code",
   "execution_count": 6,
   "id": "a5f44e4c",
   "metadata": {},
   "outputs": [],
   "source": [
    "# Br  equation\n",
    "br = vals[..., lut[801], :]\n",
    "indr = vals[..., lut[1604], :]\n",
    "diffr = vals[..., lut[2911], :]\n",
    "\n",
    "# Bt  equation\n",
    "bt = vals[..., lut[802], :]\n",
    "indt = vals[..., lut[1609], :]\n",
    "difft = vals[..., lut[2912], :]\n",
    "\n",
    "# Bp  equation\n",
    "bp = vals[..., lut[803], :]\n",
    "indp = vals[..., lut[1614], :]\n",
    "diffp = vals[..., lut[2913], :]"
   ]
  },
  {
   "cell_type": "code",
   "execution_count": 7,
   "id": "61630755",
   "metadata": {},
   "outputs": [],
   "source": [
    "# get rotation period (for time axis)\n",
    "eq = equation_coefficients()\n",
    "eq.read(dirname + 'equation_coefficients')\n",
    "Om0 = eq.constants[0]/2\n",
    "prot = 2*np.pi/Om0\n",
    "t = times/prot"
   ]
  },
  {
   "cell_type": "code",
   "execution_count": 8,
   "id": "9d8aeced",
   "metadata": {},
   "outputs": [
    {
     "name": "stdout",
     "output_type": "stream",
     "text": [
      "208.6191530227661\n",
      "0.0\n",
      "25\n"
     ]
    }
   ],
   "source": [
    "# check if timestep changes (usually doesn't over <1000 iters)\n",
    "print(np.mean(np.diff(times)))\n",
    "print(np.std(np.diff(times)))\n",
    "print (len(times))"
   ]
  },
  {
   "cell_type": "code",
   "execution_count": 9,
   "id": "8e7e00a4",
   "metadata": {},
   "outputs": [],
   "source": [
    "# get theta weights\n",
    "gi = GridInfo(dirname + 'grid_info', '')\n",
    "tw = gi.tweights.reshape((gi.ntheta, 1, 1))"
   ]
  },
  {
   "cell_type": "code",
   "execution_count": 10,
   "id": "64185ce6",
   "metadata": {},
   "outputs": [],
   "source": [
    "# function to integrate power (|quantity|^2) over spherical surface\n",
    "# normalized to return the SQUARE ROOT (rms) of the power AVERAGED over the sphere\n",
    "# should return same quantity for Shell_Spectra or Shell_Slices\n",
    "def my_abs(arr, sslice=False, subl0=False):\n",
    "    arr_orig = np.copy(arr)\n",
    "    if subl0:\n",
    "        if sslice:\n",
    "            arrl0 = np.mean(arr_orig, axis=0)\n",
    "            arrl0 = np.sum(arrl0*tw, axis=0)\n",
    "            theshape = np.array(np.shape(arr_orig))\n",
    "            theshape[0] = theshape[1] = 1\n",
    "            arrl0 = arrl0.reshape((theshape))\n",
    "            arr_orig -= arrl0\n",
    "        else:\n",
    "            arr_orig[0,0,...] = 0.0\n",
    "    out = np.abs(arr_orig)**2\n",
    "    if sslice:\n",
    "        out = np.mean(out, axis=0)\n",
    "        out = np.sum(out*tw, axis=0)     \n",
    "    else:\n",
    "        out = np.sum(np.sum(out, axis=0), axis=0)/(4*np.pi)\n",
    "    return np.sqrt(out)\n",
    "# on a complete slice or spectra, will return positive-definite array of shape (n_r, n_iter)"
   ]
  },
  {
   "cell_type": "code",
   "execution_count": 11,
   "id": "3c241941",
   "metadata": {},
   "outputs": [],
   "source": [
    "# get lhs = d var / dt\n",
    "def get_dvar(variable):\n",
    "    dvar = variable[..., 2:] - variable[..., 1:-1]\n",
    "    return dvar\n",
    "\n",
    "dbr = get_dvar(br)\n",
    "dbt = get_dvar(bt)\n",
    "dbp = get_dvar(bp)"
   ]
  },
  {
   "cell_type": "code",
   "execution_count": 12,
   "id": "d468e794",
   "metadata": {},
   "outputs": [],
   "source": [
    "# get weighted rhs (for consistency include fexp in the function,\n",
    "# even though it is always zero for these tests\n",
    "\n",
    "def get_weighted_rhs(fimp, fexp):\n",
    "    rhs = 0.5*(fimp[..., 2:] + fimp[..., 1:-1]) + fexp[..., 1:-1] +\\\n",
    "        0.5*(dt/dt_old)*(fexp[..., 1:-1] - fexp[..., :-2])\n",
    "    return rhs*dt\n",
    "\n",
    "br_rhs = get_weighted_rhs(diffr, indr)\n",
    "bt_rhs = get_weighted_rhs(difft, indt)\n",
    "bp_rhs = get_weighted_rhs(diffp, indp)"
   ]
  },
  {
   "cell_type": "code",
   "execution_count": 13,
   "id": "9c798c4f",
   "metadata": {},
   "outputs": [],
   "source": [
    "# pick a radial level (mid-shell, upper)\n",
    "ir0 = 2"
   ]
  },
  {
   "cell_type": "code",
   "execution_count": 14,
   "id": "953182d8",
   "metadata": {},
   "outputs": [
    {
     "data": {
      "text/plain": [
       "Text(0.5, 1.0, 'induct totals (r) spec')"
      ]
     },
     "execution_count": 14,
     "metadata": {},
     "output_type": "execute_result"
    },
    {
     "data": {
      "image/png": "[encoded data removed]",
      "text/plain": [
       "<Figure size 432x288 with 1 Axes>"
      ]
     },
     "metadata": {
      "needs_background": "light"
     },
     "output_type": "display_data"
    }
   ],
   "source": [
    "# plot the B_r equation\n",
    "plt.plot(t, my_abs(br, subl0=True)[ir0, :], 'b', label='B')\n",
    "plt.plot(t[2:], my_abs(dbr - br_rhs, subl0=True)[ir0, :], 'c', label='(LHS - RHS)*dt')\n",
    "plt.plot(t[2:], my_abs(dbr, subl0=True)[ir0, :], 'k', label='dB')\n",
    "plt.plot(t[2:], my_abs(br_rhs, subl0=True)[ir0, :], 'r--', label='weighted RHS * dt')\n",
    "plt.yscale('log')\n",
    "\n",
    "# label\n",
    "plt.legend()\n",
    "plt.xlabel('time (prot)')\n",
    "plt.ylabel('induction (G/s)')\n",
    "plt.title('induct totals (r) spec')"
   ]
  },
  {
   "cell_type": "code",
   "execution_count": 15,
   "id": "523f93eb",
   "metadata": {},
   "outputs": [
    {
     "data": {
      "text/plain": [
       "Text(0.5, 1.0, 'induct totals (t) spec')"
      ]
     },
     "execution_count": 15,
     "metadata": {},
     "output_type": "execute_result"
    },
    {
     "data": {
      "image/png": "[encoded data removed]",
      "text/plain": [
       "<Figure size 432x288 with 1 Axes>"
      ]
     },
     "metadata": {
      "needs_background": "light"
     },
     "output_type": "display_data"
    }
   ],
   "source": [
    "# plot the B_t equation\n",
    "plt.plot(t, my_abs(bt, subl0=True)[ir0, :], 'b', label='B')\n",
    "plt.plot(t[2:], my_abs(dbt - bt_rhs, subl0=True)[ir0, :], 'c', label='(LHS - RHS)*dt')\n",
    "plt.plot(t[2:], my_abs(dbt, subl0=True)[ir0, :], 'k', label='dB')\n",
    "plt.plot(t[2:], my_abs(bt_rhs, subl0=True)[ir0, :], 'r--', label='weighted RHS * dt')\n",
    "plt.yscale('log')\n",
    "\n",
    "# label\n",
    "plt.legend()\n",
    "plt.xlabel('time (prot)')\n",
    "plt.ylabel('induction (G/s)')\n",
    "plt.title('induct totals (t) spec')"
   ]
  },
  {
   "cell_type": "code",
   "execution_count": 16,
   "id": "dadbcc6e",
   "metadata": {},
   "outputs": [
    {
     "data": {
      "text/plain": [
       "Text(0.5, 1.0, 'induct totals (p) spec')"
      ]
     },
     "execution_count": 16,
     "metadata": {},
     "output_type": "execute_result"
    },
    {
     "data": {
      "image/png": "[encoded data removed]",
      "text/plain": [
       "<Figure size 432x288 with 1 Axes>"
      ]
     },
     "metadata": {
      "needs_background": "light"
     },
     "output_type": "display_data"
    }
   ],
   "source": [
    "# plot the B_p equation\n",
    "plt.plot(t, my_abs(bp, subl0=True)[ir0, :], 'b', label='B')\n",
    "plt.plot(t[2:], my_abs(dbp - bp_rhs, subl0=True)[ir0, :], 'c', label='(LHS - RHS)*dt')\n",
    "plt.plot(t[2:], my_abs(dbp, subl0=True)[ir0, :], 'k', label='dB')\n",
    "plt.plot(t[2:], my_abs(bp_rhs, subl0=True)[ir0, :], 'r--', label='weighted RHS * dt')\n",
    "plt.yscale('log')\n",
    "\n",
    "# label\n",
    "plt.legend()\n",
    "plt.xlabel('time (prot)')\n",
    "plt.ylabel('induction (G/s)')\n",
    "plt.title('induct totals (p) spec')"
   ]
  },
  {
   "cell_type": "code",
   "execution_count": 17,
   "id": "4a3b6928",
   "metadata": {},
   "outputs": [],
   "source": [
    "# make a definition of \"error\" (relative difference between two quantities in terms of \"my_abs\" above)\n",
    "# for this, will average over time axis (axis = 1)\n",
    "# returns \"errors\" at each radius sampled (array of shape (nr,))\n",
    "def get_err(quant1, quant2, norm, sslice=False, subl0=False):\n",
    "    numer = np.mean(my_abs(quant1 - quant2, sslice=sslice, subl0=subl0),axis=1) # difference\n",
    "    denom = np.mean(my_abs(norm, sslice=sslice, subl0=subl0),axis=1)/2 # average\n",
    "    return numer/denom"
   ]
  },
  {
   "cell_type": "code",
   "execution_count": 18,
   "id": "e07e6d44",
   "metadata": {
    "scrolled": true
   },
   "outputs": [
    {
     "data": {
      "image/png": "[encoded data removed]",
      "text/plain": [
       "<Figure size 360x288 with 1 Axes>"
      ]
     },
     "metadata": {
      "needs_background": "light"
     },
     "output_type": "display_data"
    }
   ],
   "source": [
    "# plot errors in stream function equations (ignore l = 0 bit)\n",
    "rsun = 6.96e10\n",
    "rr = spec.radius/rsun\n",
    "plt.figure(figsize=(5, 4))\n",
    "plt.scatter(rr, get_err(dbr, br_rhs, br, subl0=True), label='Br eq')\n",
    "plt.scatter(rr, get_err(dbt, bt_rhs, bt), label='Bt eq')\n",
    "plt.scatter(rr, get_err(dbp, bp_rhs, bp), label='Bp eq')\n",
    "plt.yscale('log')\n",
    "plt.xlabel('r/rsun')\n",
    "plt.title(dirtag + ' ERR B EQS')\n",
    "plt.legend()\n",
    "plt.tight_layout()\n",
    "plt.savefig(dirtag + '_err_wrt_field_ind.pdf')"
   ]
  }
 ],
 "metadata": {
  "kernelspec": {
   "display_name": "Python 3",
   "language": "python",
   "name": "python3"
  },
  "language_info": {
   "codemirror_mode": {
    "name": "ipython",
    "version": 3
   },
   "file_extension": ".py",
   "mimetype": "text/x-python",
   "name": "python",
   "nbconvert_exporter": "python",
   "pygments_lexer": "ipython3",
   "version": "3.7.10"
  }
 },
 "nbformat": 4,
 "nbformat_minor": 5
}
