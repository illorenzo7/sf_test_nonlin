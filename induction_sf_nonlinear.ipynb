{
 "cells": [
  {
   "cell_type": "code",
   "execution_count": 1,
   "id": "75471414",
   "metadata": {
    "scrolled": false
   },
   "outputs": [
    {
     "data": {
      "text/plain": [
       "['/pleiades/home1/lmatilsk/sf_test_nonlin',\n",
       " '/home1/lmatilsk/miniconda3/envs/custom/lib/python37.zip',\n",
       " '/home1/lmatilsk/miniconda3/envs/custom/lib/python3.7',\n",
       " '/home1/lmatilsk/miniconda3/envs/custom/lib/python3.7/lib-dynload',\n",
       " '',\n",
       " '/home1/lmatilsk/miniconda3/envs/custom/lib/python3.7/site-packages',\n",
       " '/home1/lmatilsk/miniconda3/envs/custom/lib/python3.7/site-packages/IPython/extensions',\n",
       " '/lou/la2/lmatilsk/.ipython',\n",
       " '/home1/lmatilsk/rayleigh/code/post_processing',\n",
       " '/home1/lmatilsk/rayleigh/utils/compute',\n",
       " '/home1/lmatilsk/rayleigh/code/post_processing']"
      ]
     },
     "execution_count": 1,
     "metadata": {},
     "output_type": "execute_result"
    }
   ],
   "source": [
    "%matplotlib inline\n",
    "import sys, os\n",
    "import numpy as np\n",
    "import matplotlib.pyplot as plt\n",
    "sys.path.append(os.environ['rapp'])\n",
    "sys.path.append(os.environ['raco'])\n",
    "from rayleigh_diagnostics import Shell_Spectra, Shell_Slices, GridInfo\n",
    "from reference_tools import equation_coefficients\n",
    "import common\n",
    "sys.path"
   ]
  },
  {
   "cell_type": "code",
   "execution_count": 2,
   "id": "050f6415",
   "metadata": {},
   "outputs": [
    {
     "name": "stdout",
     "output_type": "stream",
     "text": [
      "/nobackup/lmatilsk/benchmarks/j2011_mhd/00_induction_nonlinear_dealias0/\n"
     ]
    }
   ],
   "source": [
    "#dirname = '/nobackup/lmatilsk/benchmarks/j2011_mhd/00_induction_nonlinear/'\n",
    "#dirtag = 'caseM_orig'\n",
    "\n",
    "dirname = '/nobackup/lmatilsk/benchmarks/j2011_mhd/00_induction_nonlinear_dealias0/'\n",
    "dirtag = 'caseM_dealias0'\n",
    "\n",
    "#dirname = '/pleiades/nobackupp17/lmatilsk/case_M-Prm4.0_linear_consteta/00_test_equations_sf2/'\n",
    "#dirtag = 'caseM_consteta'\n",
    "\n",
    "#dirname = '/pleiades/nobackupp17/lmatilsk/benchmarks/j2011_mhd_linear/00_test_equations_sf2/'\n",
    "#dirtag = 'j2011_mhd'\n",
    "\n",
    "#dirname = '/pleiades/nobackupp17/lmatilsk/benchmarks/j2011_mhd_linear_eta_rhohalf/00_test_equations_sf2/'\n",
    "#dirtag = 'j2011_mhd_eta_rhohalf'\n",
    "\n",
    "#dirname = '/pleiades/nobackupp17/lmatilsk/benchmarks/j2011_mhd_linear_eta_rhohalf/00_test_equations_sf2_highres/'\n",
    "#dirtag = 'j2011_mhd_eta_rhohalf_highres'\n",
    "\n",
    "#dirname = '/nobackup/lmatilsk/case_M-Prm4.0_linear_eta_over_r/00_test_equations_sf2/'\n",
    "#dirtag = 'caseM_eta_over_r'\n",
    "\n",
    "#dirname = '/nobackup/lmatilsk/case_M-Prm4.0_linear_eta_over_r/00_test_equations_dealias0/'\n",
    "#dirtag = 'caseM_eta_over_r_dealias0'\n",
    "\n",
    "print (dirname)"
   ]
  },
  {
   "cell_type": "code",
   "execution_count": 3,
   "id": "6a8f91a8",
   "metadata": {},
   "outputs": [
    {
     "name": "stdout",
     "output_type": "stream",
     "text": [
      "/nobackup/lmatilsk/benchmarks/j2011_mhd/00_induction_nonlinear_dealias0/Shell_Spectra/15000025\n"
     ]
    }
   ],
   "source": [
    "radatadir = dirname + 'Shell_Spectra/'\n",
    "the_file = radatadir + os.listdir(radatadir)[0]\n",
    "spec = Shell_Spectra(the_file,'')\n",
    "print(the_file)"
   ]
  },
  {
   "cell_type": "code",
   "execution_count": 4,
   "id": "4d8ace04",
   "metadata": {
    "scrolled": true
   },
   "outputs": [
    {
     "name": "stdout",
     "output_type": "stream",
     "text": [
      "irvals =  [ 18  29  42  53  63  74  85  98 109]\n",
      "r/rsun =  [0.09730686 0.09241647 0.08438459 0.07625216 0.06831853 0.05958225\n",
      " 0.05144982 0.04341794 0.03852755]\n",
      "qvals =  [ 801  802  803 1604 1609 1614 2911 2912 2913]\n"
     ]
    }
   ],
   "source": [
    "# break up data\n",
    "vals = spec.vals\n",
    "\n",
    "times =  spec.time\n",
    "dt = times[2:] - times[1:-1]\n",
    "dt = dt.reshape((1, 1, 1, len(dt)))\n",
    "dt_old = times[1:-1] - times[:-2]\n",
    "dt_old = dt_old.reshape((1, 1, 1, len(dt_old)))\n",
    "\n",
    "lut = spec.lut\n",
    "irvals = spec.inds\n",
    "\n",
    "print ('irvals = ', irvals)\n",
    "print ('r/rsun = ', spec.radius/common.rsun)\n",
    "print ('qvals = ', spec.qv)"
   ]
  },
  {
   "cell_type": "code",
   "execution_count": 5,
   "id": "c84673f4",
   "metadata": {},
   "outputs": [
    {
     "name": "stdout",
     "output_type": "stream",
     "text": [
      "(128, 128, 9, 9, 25)\n"
     ]
    }
   ],
   "source": [
    "print (np.shape(vals))"
   ]
  },
  {
   "cell_type": "code",
   "execution_count": 6,
   "id": "cc3ed20f",
   "metadata": {},
   "outputs": [],
   "source": [
    "# Br  equation\n",
    "br = vals[..., lut[801], :]\n",
    "indr = vals[..., lut[1604], :]\n",
    "diffr = vals[..., lut[2911], :]\n",
    "\n",
    "# Bt  equation\n",
    "bt = vals[..., lut[802], :]\n",
    "indt = vals[..., lut[1609], :]\n",
    "difft = vals[..., lut[2912], :]\n",
    "\n",
    "# Bp  equation\n",
    "bp = vals[..., lut[803], :]\n",
    "indp = vals[..., lut[1614], :]\n",
    "diffp = vals[..., lut[2913], :]"
   ]
  },
  {
   "cell_type": "code",
   "execution_count": 7,
   "id": "61630755",
   "metadata": {},
   "outputs": [],
   "source": [
    "# get rotation period (for time axis)\n",
    "eq = equation_coefficients()\n",
    "eq.read(dirname + 'equation_coefficients')\n",
    "Om0 = eq.constants[0]/2\n",
    "prot = 2*np.pi/Om0\n",
    "t = times/prot"
   ]
  },
  {
   "cell_type": "code",
   "execution_count": 8,
   "id": "9d8aeced",
   "metadata": {},
   "outputs": [
    {
     "name": "stdout",
     "output_type": "stream",
     "text": [
      "200.0\n",
      "0.0\n",
      "25\n"
     ]
    }
   ],
   "source": [
    "# check if timestep changes (usually doesn't over <1000 iters)\n",
    "print(np.mean(np.diff(times)))\n",
    "print(np.std(np.diff(times)))\n",
    "print (len(times))"
   ]
  },
  {
   "cell_type": "code",
   "execution_count": 9,
   "id": "8e7e00a4",
   "metadata": {},
   "outputs": [],
   "source": [
    "# get theta weights\n",
    "gi = GridInfo(dirname + 'grid_info', '')\n",
    "tw = gi.tweights.reshape((gi.ntheta, 1, 1))"
   ]
  },
  {
   "cell_type": "code",
   "execution_count": 10,
   "id": "64185ce6",
   "metadata": {},
   "outputs": [],
   "source": [
    "# function to integrate power (|quantity|^2) over spherical surface\n",
    "# normalized to return the SQUARE ROOT (rms) of the power AVERAGED over the sphere\n",
    "# should return same quantity for Shell_Spectra or Shell_Slices\n",
    "def my_abs(arr, sslice=False, subl0=False):\n",
    "    arr_orig = np.copy(arr)\n",
    "    if subl0:\n",
    "        if sslice:\n",
    "            arrl0 = np.mean(arr_orig, axis=0)\n",
    "            arrl0 = np.sum(arrl0*tw, axis=0)\n",
    "            theshape = np.array(np.shape(arr_orig))\n",
    "            theshape[0] = theshape[1] = 1\n",
    "            arrl0 = arrl0.reshape((theshape))\n",
    "            arr_orig -= arrl0\n",
    "        else:\n",
    "            arr_orig[0,0,...] = 0.0\n",
    "    out = np.abs(arr_orig)**2\n",
    "    if sslice:\n",
    "        out = np.mean(out, axis=0)\n",
    "        out = np.sum(out*tw, axis=0)     \n",
    "    else:\n",
    "        out = np.sum(np.sum(out, axis=0), axis=0)/(4*np.pi)\n",
    "    return np.sqrt(out)\n",
    "# on a complete slice or spectra, will return positive-definite array of shape (n_r, n_iter)"
   ]
  },
  {
   "cell_type": "code",
   "execution_count": 11,
   "id": "160e6131",
   "metadata": {},
   "outputs": [],
   "source": [
    "# get lhs = d var / dt\n",
    "def get_ddt(variable):\n",
    "    dvar = variable[..., 2:] - variable[..., 1:-1]\n",
    "    return dvar/dt\n",
    "\n",
    "br_dt = get_ddt(br)\n",
    "bt_dt = get_ddt(bt)\n",
    "bp_dt = get_ddt(bp)"
   ]
  },
  {
   "cell_type": "code",
   "execution_count": 12,
   "id": "1f46f460",
   "metadata": {},
   "outputs": [],
   "source": [
    "# get weighted rhs (for consistency include fexp in the function,\n",
    "# even though it is always zero for these tests\n",
    "\n",
    "def get_weighted_rhs(fimp, fexp):\n",
    "    return 0.5*(fimp[..., 2:] + fimp[..., 1:-1]) + fexp[..., 1:-1] +\\\n",
    "        0.5*(dt/dt_old)*(fexp[..., 1:-1] - fexp[..., :-2])\n",
    "\n",
    "br_rhs = get_weighted_rhs(diffr, indr)\n",
    "bt_rhs = get_weighted_rhs(difft, indt)\n",
    "bp_rhs = get_weighted_rhs(diffp, indp)"
   ]
  },
  {
   "cell_type": "code",
   "execution_count": 13,
   "id": "44c0d1e3",
   "metadata": {},
   "outputs": [],
   "source": [
    "# pick a radial level (mid-shell, upper)\n",
    "ir0 = 2"
   ]
  },
  {
   "cell_type": "code",
   "execution_count": 14,
   "id": "953182d8",
   "metadata": {},
   "outputs": [
    {
     "data": {
      "text/plain": [
       "Text(0.5, 1.0, 'induct totals (r) spec')"
      ]
     },
     "execution_count": 14,
     "metadata": {},
     "output_type": "execute_result"
    },
    {
     "data": {
      "image/png": "[encoded data removed]",
      "text/plain": [
       "<Figure size 432x288 with 1 Axes>"
      ]
     },
     "metadata": {
      "needs_background": "light"
     },
     "output_type": "display_data"
    }
   ],
   "source": [
    "# plot the B_r equation\n",
    "plt.plot(t[2:], my_abs(br_dt - br_rhs, subl0=True)[ir0, :], 'b', label='LHS - RHS')\n",
    "plt.plot(t[2:], my_abs(br_dt, subl0=True)[ir0, :], 'k', label='dB/dt (numderiv)')\n",
    "plt.plot(t[2:], my_abs(br_rhs, subl0=True)[ir0, :], 'r--', label='weighted RHS')\n",
    "plt.yscale('log')\n",
    "\n",
    "# label\n",
    "plt.legend()\n",
    "plt.xlabel('time (prot)')\n",
    "plt.ylabel('induction (G/s)')\n",
    "plt.title('induct totals (r) spec')"
   ]
  },
  {
   "cell_type": "code",
   "execution_count": 15,
   "id": "523f93eb",
   "metadata": {},
   "outputs": [
    {
     "data": {
      "text/plain": [
       "Text(0.5, 1.0, 'induct totals (t) spec')"
      ]
     },
     "execution_count": 15,
     "metadata": {},
     "output_type": "execute_result"
    },
    {
     "data": {
      "image/png": "[encoded data removed]",
      "text/plain": [
       "<Figure size 432x288 with 1 Axes>"
      ]
     },
     "metadata": {
      "needs_background": "light"
     },
     "output_type": "display_data"
    }
   ],
   "source": [
    "# plot the B_t equation\n",
    "plt.plot(t[2:], my_abs(bt_dt - bt_rhs, subl0=True)[ir0, :], 'b', label='LHS - RHS')\n",
    "plt.plot(t[2:], my_abs(bt_dt, subl0=True)[ir0, :], 'k', label='dB/dt (numderiv)')\n",
    "plt.plot(t[2:], my_abs(bt_rhs, subl0=True)[ir0, :], 'r--', label='weighted RHS')\n",
    "plt.yscale('log')\n",
    "\n",
    "# label\n",
    "plt.legend()\n",
    "plt.xlabel('time (prot)')\n",
    "plt.ylabel('induction (G/s)')\n",
    "plt.title('induct totals (t) spec')"
   ]
  },
  {
   "cell_type": "code",
   "execution_count": 16,
   "id": "dadbcc6e",
   "metadata": {},
   "outputs": [
    {
     "data": {
      "text/plain": [
       "Text(0.5, 1.0, 'induct totals (p) spec')"
      ]
     },
     "execution_count": 16,
     "metadata": {},
     "output_type": "execute_result"
    },
    {
     "data": {
      "image/png": "[encoded data removed]",
      "text/plain": [
       "<Figure size 432x288 with 1 Axes>"
      ]
     },
     "metadata": {
      "needs_background": "light"
     },
     "output_type": "display_data"
    }
   ],
   "source": [
    "# plot the B_p equation\n",
    "plt.plot(t[2:], my_abs(bp_dt - bp_rhs, subl0=True)[ir0, :], 'b', label='LHS - RHS')\n",
    "plt.plot(t[2:], my_abs(bp_dt, subl0=True)[ir0, :], 'k', label='dB/dt (numderiv)')\n",
    "plt.plot(t[2:], my_abs(bp_rhs, subl0=True)[ir0, :], 'r--', label='weighted RHS')\n",
    "plt.yscale('log')\n",
    "\n",
    "# label\n",
    "plt.legend()\n",
    "plt.xlabel('time (prot)')\n",
    "plt.ylabel('induction (G/s)')\n",
    "plt.title('induct totals (p) spec')"
   ]
  },
  {
   "cell_type": "code",
   "execution_count": 17,
   "id": "1e7450d8",
   "metadata": {},
   "outputs": [],
   "source": [
    "# make a definition of \"error\" (relative difference between two quantities in terms of \"my_abs\" above)\n",
    "# for this, will average over time axis (axis = 1)\n",
    "# returns \"errors\" at each radius sampled (array of shape (nr,))\n",
    "def get_err(quant1, quant2, sslice=False, subl0=False):\n",
    "    numer = np.mean(my_abs(quant1 - quant2, sslice=sslice, subl0=subl0),axis=1) # difference\n",
    "    denom = np.mean(my_abs(quant1 + quant2, sslice=sslice, subl0=subl0),axis=1)/2 # average\n",
    "    return numer/denom"
   ]
  },
  {
   "cell_type": "code",
   "execution_count": 18,
   "id": "e07e6d44",
   "metadata": {
    "scrolled": true
   },
   "outputs": [
    {
     "data": {
      "image/png": "[encoded data removed]",
      "text/plain": [
       "<Figure size 360x288 with 1 Axes>"
      ]
     },
     "metadata": {
      "needs_background": "light"
     },
     "output_type": "display_data"
    }
   ],
   "source": [
    "# plot errors in stream function equations (ignore l = 0 bit)\n",
    "rsun = 6.96e10\n",
    "rr = spec.radius/rsun\n",
    "plt.figure(figsize=(5, 4))\n",
    "plt.scatter(rr, get_err(br_dt, br_rhs, subl0=True), label='Br eq')\n",
    "plt.scatter(rr, get_err(bt_dt, bt_rhs), label='Bt eq')\n",
    "plt.scatter(rr, get_err(bp_dt, bp_rhs), label='Bp eq')\n",
    "plt.yscale('log')\n",
    "plt.xlabel('r/rsun')\n",
    "plt.title(dirtag + ' ERR B EQS')\n",
    "plt.legend()\n",
    "plt.tight_layout()\n",
    "plt.savefig(dirtag + '_err_ind.pdf')"
   ]
  },
  {
   "cell_type": "code",
   "execution_count": 19,
   "id": "9b95d8ac",
   "metadata": {
    "scrolled": false
   },
   "outputs": [
    {
     "name": "stdout",
     "output_type": "stream",
     "text": [
      "Br eq err =  [1.02400576e-05 4.67991603e-06 2.30036803e-07 5.55914680e-09\n",
      " 3.94721658e-10 6.47657093e-10 3.33914807e-10 1.73098646e-08\n",
      " 5.14699103e-08]\n",
      "Bt eq err =  [7.61724015e-06 3.26613899e-06 1.88789174e-07 4.16848934e-09\n",
      " 1.94112093e-09 3.78117829e-09 2.35216484e-08 1.51548689e-07\n",
      " 8.83944574e-07]\n",
      "Bp eq err =  [1.13554342e-05 5.62603419e-06 2.83641671e-07 7.51665176e-09\n",
      " 4.33944572e-09 1.42655313e-08 4.45741960e-08 9.87907115e-08\n",
      " 1.42003486e-06]\n"
     ]
    }
   ],
   "source": [
    "# print these errors\n",
    "print ('Br eq err = ', get_err(br_dt, br_rhs, subl0=True))\n",
    "print ('Bt eq err = ', get_err(bt_dt, bt_rhs))\n",
    "print ('Bp eq err = ', get_err(bp_dt, bp_rhs))"
   ]
  }
 ],
 "metadata": {
  "kernelspec": {
   "display_name": "Python 3",
   "language": "python",
   "name": "python3"
  },
  "language_info": {
   "codemirror_mode": {
    "name": "ipython",
    "version": 3
   },
   "file_extension": ".py",
   "mimetype": "text/x-python",
   "name": "python",
   "nbconvert_exporter": "python",
   "pygments_lexer": "ipython3",
   "version": "3.7.10"
  }
 },
 "nbformat": 4,
 "nbformat_minor": 5
}
