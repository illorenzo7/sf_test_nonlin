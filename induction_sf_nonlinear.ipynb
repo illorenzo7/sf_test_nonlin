{
 "cells": [
  {
   "cell_type": "code",
   "execution_count": 1,
   "id": "75471414",
   "metadata": {
    "scrolled": false
   },
   "outputs": [
    {
     "data": {
      "text/plain": [
       "['/pleiades/home1/lmatilsk/sf_test_nonlin',\n",
       " '/home1/lmatilsk/miniconda3/envs/custom/lib/python37.zip',\n",
       " '/home1/lmatilsk/miniconda3/envs/custom/lib/python3.7',\n",
       " '/home1/lmatilsk/miniconda3/envs/custom/lib/python3.7/lib-dynload',\n",
       " '',\n",
       " '/home1/lmatilsk/miniconda3/envs/custom/lib/python3.7/site-packages',\n",
       " '/home1/lmatilsk/miniconda3/envs/custom/lib/python3.7/site-packages/IPython/extensions',\n",
       " '/lou/la2/lmatilsk/.ipython',\n",
       " '/home1/lmatilsk/rayleigh/code/post_processing',\n",
       " '/home1/lmatilsk/rayleigh/utils/compute',\n",
       " '/home1/lmatilsk/rayleigh/code/post_processing']"
      ]
     },
     "execution_count": 1,
     "metadata": {},
     "output_type": "execute_result"
    }
   ],
   "source": [
    "%matplotlib inline\n",
    "import sys, os\n",
    "import numpy as np\n",
    "import matplotlib.pyplot as plt\n",
    "sys.path.append(os.environ['rapp'])\n",
    "sys.path.append(os.environ['raco'])\n",
    "from rayleigh_diagnostics import Shell_Spectra, Shell_Slices, GridInfo\n",
    "from reference_tools import equation_coefficients\n",
    "import common\n",
    "sys.path"
   ]
  },
  {
   "cell_type": "code",
   "execution_count": 2,
   "id": "050f6415",
   "metadata": {},
   "outputs": [
    {
     "name": "stdout",
     "output_type": "stream",
     "text": [
      "/nobackup/lmatilsk/case_M-Prm4.0_fixedAeq/00_induction_nonlinear_nt1536/\n"
     ]
    }
   ],
   "source": [
    "#dirname = '/nobackup/lmatilsk/benchmarks/j2011_mhd/00_induction_nonlinear/'\n",
    "#dirtag = 'j2011_bench'\n",
    "\n",
    "#dirname = '/nobackup/lmatilsk/benchmarks/j2011_mhd/00_induction_nonlinear_dealias0/'\n",
    "#dirtag = 'j2011_bench_dealias0'\n",
    "\n",
    "#dirname = '/nobackup/lmatilsk/case_M-Prm4.0_fixedAeq/00_induction_nonlinear/'\n",
    "#dirtag = 'caseM_orig'\n",
    "\n",
    "#dirname = '/nobackup/lmatilsk/case_M-Prm4.0_fixedAeq/00_induction_nonlinear_nt768/'\n",
    "#dirtag = 'caseM_nt768'\n",
    "\n",
    "dirname = '/nobackup/lmatilsk/case_M-Prm4.0_fixedAeq/00_induction_nonlinear_nt1536/'\n",
    "dirtag = 'caseM_nt1536'\n",
    "\n",
    "print (dirname)"
   ]
  },
  {
   "cell_type": "code",
   "execution_count": 3,
   "id": "6a8f91a8",
   "metadata": {},
   "outputs": [
    {
     "name": "stdout",
     "output_type": "stream",
     "text": [
      "/nobackup/lmatilsk/case_M-Prm4.0_fixedAeq/00_induction_nonlinear_nt1536/Shell_Spectra/26550025\n"
     ]
    }
   ],
   "source": [
    "radatadir = dirname + 'Shell_Spectra/'\n",
    "the_file = radatadir + os.listdir(radatadir)[0]\n",
    "spec = Shell_Spectra(the_file,'')\n",
    "print(the_file)"
   ]
  },
  {
   "cell_type": "code",
   "execution_count": 4,
   "id": "4d8ace04",
   "metadata": {
    "scrolled": true
   },
   "outputs": [
    {
     "name": "stdout",
     "output_type": "stream",
     "text": [
      "irvals =  [ 13  21  31  42  63 136 154 167 177]\n",
      "r/rsun =  [0.92257665 0.88888912 0.83548624 0.77648689 0.71870059 0.66109085\n",
      " 0.6034544  0.5476774  0.51231082]\n",
      "qvals =  [ 801  802  803 1604 1609 1614 2911 2912 2913]\n"
     ]
    }
   ],
   "source": [
    "# break up data\n",
    "vals = spec.vals\n",
    "\n",
    "times =  spec.time\n",
    "dt = times[2:] - times[1:-1]\n",
    "dt = dt.reshape((1, 1, 1, len(dt)))\n",
    "dt_old = times[1:-1] - times[:-2]\n",
    "dt_old = dt_old.reshape((1, 1, 1, len(dt_old)))\n",
    "\n",
    "lut = spec.lut\n",
    "irvals = spec.inds\n",
    "\n",
    "print ('irvals = ', irvals)\n",
    "print ('r/rsun = ', spec.radius/common.rsun)\n",
    "print ('qvals = ', spec.qv)"
   ]
  },
  {
   "cell_type": "code",
   "execution_count": 5,
   "id": "c84673f4",
   "metadata": {},
   "outputs": [
    {
     "name": "stdout",
     "output_type": "stream",
     "text": [
      "(1024, 1024, 9, 9, 25)\n"
     ]
    }
   ],
   "source": [
    "print (np.shape(vals))"
   ]
  },
  {
   "cell_type": "code",
   "execution_count": 6,
   "id": "a5f44e4c",
   "metadata": {},
   "outputs": [],
   "source": [
    "# Br  equation\n",
    "br = vals[..., lut[801], :]\n",
    "indr = vals[..., lut[1604], :]\n",
    "diffr = vals[..., lut[2911], :]\n",
    "\n",
    "# Bt  equation\n",
    "bt = vals[..., lut[802], :]\n",
    "indt = vals[..., lut[1609], :]\n",
    "difft = vals[..., lut[2912], :]\n",
    "\n",
    "# Bp  equation\n",
    "bp = vals[..., lut[803], :]\n",
    "indp = vals[..., lut[1614], :]\n",
    "diffp = vals[..., lut[2913], :]"
   ]
  },
  {
   "cell_type": "code",
   "execution_count": 7,
   "id": "61630755",
   "metadata": {},
   "outputs": [],
   "source": [
    "# get rotation period (for time axis)\n",
    "eq = equation_coefficients()\n",
    "eq.read(dirname + 'equation_coefficients')\n",
    "Om0 = eq.constants[0]/2\n",
    "prot = 2*np.pi/Om0\n",
    "t = times/prot"
   ]
  },
  {
   "cell_type": "code",
   "execution_count": 8,
   "id": "9d8aeced",
   "metadata": {},
   "outputs": [
    {
     "name": "stdout",
     "output_type": "stream",
     "text": [
      "208.6191530227661\n",
      "0.0\n",
      "25\n"
     ]
    }
   ],
   "source": [
    "# check if timestep changes (usually doesn't over <1000 iters)\n",
    "print(np.mean(np.diff(times)))\n",
    "print(np.std(np.diff(times)))\n",
    "print (len(times))"
   ]
  },
  {
   "cell_type": "code",
   "execution_count": 9,
   "id": "8e7e00a4",
   "metadata": {},
   "outputs": [],
   "source": [
    "# get theta weights\n",
    "gi = GridInfo(dirname + 'grid_info', '')\n",
    "tw = gi.tweights.reshape((gi.ntheta, 1, 1))"
   ]
  },
  {
   "cell_type": "code",
   "execution_count": 10,
   "id": "64185ce6",
   "metadata": {},
   "outputs": [],
   "source": [
    "# function to integrate power (|quantity|^2) over spherical surface\n",
    "# normalized to return the SQUARE ROOT (rms) of the power AVERAGED over the sphere\n",
    "# should return same quantity for Shell_Spectra or Shell_Slices\n",
    "def my_abs(arr, sslice=False, subl0=False):\n",
    "    arr_orig = np.copy(arr)\n",
    "    if subl0:\n",
    "        if sslice:\n",
    "            arrl0 = np.mean(arr_orig, axis=0)\n",
    "            arrl0 = np.sum(arrl0*tw, axis=0)\n",
    "            theshape = np.array(np.shape(arr_orig))\n",
    "            theshape[0] = theshape[1] = 1\n",
    "            arrl0 = arrl0.reshape((theshape))\n",
    "            arr_orig -= arrl0\n",
    "        else:\n",
    "            arr_orig[0,0,...] = 0.0\n",
    "    out = np.abs(arr_orig)**2\n",
    "    if sslice:\n",
    "        out = np.mean(out, axis=0)\n",
    "        out = np.sum(out*tw, axis=0)     \n",
    "    else:\n",
    "        out = np.sum(np.sum(out, axis=0), axis=0)/(4*np.pi)\n",
    "    return np.sqrt(out)\n",
    "# on a complete slice or spectra, will return positive-definite array of shape (n_r, n_iter)"
   ]
  },
  {
   "cell_type": "code",
   "execution_count": 11,
   "id": "3c241941",
   "metadata": {},
   "outputs": [],
   "source": [
    "# get lhs = d var / dt\n",
    "def get_ddt(variable):\n",
    "    dvar = variable[..., 2:] - variable[..., 1:-1]\n",
    "    return dvar/dt\n",
    "\n",
    "br_dt = get_ddt(br)\n",
    "bt_dt = get_ddt(bt)\n",
    "bp_dt = get_ddt(bp)"
   ]
  },
  {
   "cell_type": "code",
   "execution_count": 12,
   "id": "d468e794",
   "metadata": {},
   "outputs": [],
   "source": [
    "# get weighted rhs (for consistency include fexp in the function,\n",
    "# even though it is always zero for these tests\n",
    "\n",
    "def get_weighted_rhs(fimp, fexp):\n",
    "    return 0.5*(fimp[..., 2:] + fimp[..., 1:-1]) + fexp[..., 1:-1] +\\\n",
    "        0.5*(dt/dt_old)*(fexp[..., 1:-1] - fexp[..., :-2])\n",
    "\n",
    "br_rhs = get_weighted_rhs(diffr, indr)\n",
    "bt_rhs = get_weighted_rhs(difft, indt)\n",
    "bp_rhs = get_weighted_rhs(diffp, indp)"
   ]
  },
  {
   "cell_type": "code",
   "execution_count": 13,
   "id": "9c798c4f",
   "metadata": {},
   "outputs": [],
   "source": [
    "# pick a radial level (mid-shell, upper)\n",
    "ir0 = 2"
   ]
  },
  {
   "cell_type": "code",
   "execution_count": 14,
   "id": "953182d8",
   "metadata": {},
   "outputs": [
    {
     "data": {
      "text/plain": [
       "Text(0.5, 1.0, 'induct totals (r) spec')"
      ]
     },
     "execution_count": 14,
     "metadata": {},
     "output_type": "execute_result"
    },
    {
     "data": {
      "image/png": "[encoded data removed]",
      "text/plain": [
       "<Figure size 432x288 with 1 Axes>"
      ]
     },
     "metadata": {
      "needs_background": "light"
     },
     "output_type": "display_data"
    }
   ],
   "source": [
    "# plot the B_r equation\n",
    "plt.plot(t[2:], my_abs(br_dt - br_rhs, subl0=True)[ir0, :], 'b', label='LHS - RHS')\n",
    "plt.plot(t[2:], my_abs(br_dt, subl0=True)[ir0, :], 'k', label='dB/dt (numderiv)')\n",
    "plt.plot(t[2:], my_abs(br_rhs, subl0=True)[ir0, :], 'r--', label='weighted RHS')\n",
    "plt.yscale('log')\n",
    "\n",
    "# label\n",
    "plt.legend()\n",
    "plt.xlabel('time (prot)')\n",
    "plt.ylabel('induction (G/s)')\n",
    "plt.title('induct totals (r) spec')"
   ]
  },
  {
   "cell_type": "code",
   "execution_count": 15,
   "id": "523f93eb",
   "metadata": {},
   "outputs": [
    {
     "data": {
      "text/plain": [
       "Text(0.5, 1.0, 'induct totals (t) spec')"
      ]
     },
     "execution_count": 15,
     "metadata": {},
     "output_type": "execute_result"
    },
    {
     "data": {
      "image/png": "[encoded data removed]",
      "text/plain": [
       "<Figure size 432x288 with 1 Axes>"
      ]
     },
     "metadata": {
      "needs_background": "light"
     },
     "output_type": "display_data"
    }
   ],
   "source": [
    "# plot the B_t equation\n",
    "plt.plot(t[2:], my_abs(bt_dt - bt_rhs, subl0=True)[ir0, :], 'b', label='LHS - RHS')\n",
    "plt.plot(t[2:], my_abs(bt_dt, subl0=True)[ir0, :], 'k', label='dB/dt (numderiv)')\n",
    "plt.plot(t[2:], my_abs(bt_rhs, subl0=True)[ir0, :], 'r--', label='weighted RHS')\n",
    "plt.yscale('log')\n",
    "\n",
    "# label\n",
    "plt.legend()\n",
    "plt.xlabel('time (prot)')\n",
    "plt.ylabel('induction (G/s)')\n",
    "plt.title('induct totals (t) spec')"
   ]
  },
  {
   "cell_type": "code",
   "execution_count": 16,
   "id": "dadbcc6e",
   "metadata": {},
   "outputs": [
    {
     "data": {
      "text/plain": [
       "Text(0.5, 1.0, 'induct totals (p) spec')"
      ]
     },
     "execution_count": 16,
     "metadata": {},
     "output_type": "execute_result"
    },
    {
     "data": {
      "image/png": "[encoded data removed]",
      "text/plain": [
       "<Figure size 432x288 with 1 Axes>"
      ]
     },
     "metadata": {
      "needs_background": "light"
     },
     "output_type": "display_data"
    }
   ],
   "source": [
    "# plot the B_p equation\n",
    "plt.plot(t[2:], my_abs(bp_dt - bp_rhs, subl0=True)[ir0, :], 'b', label='LHS - RHS')\n",
    "plt.plot(t[2:], my_abs(bp_dt, subl0=True)[ir0, :], 'k', label='dB/dt (numderiv)')\n",
    "plt.plot(t[2:], my_abs(bp_rhs, subl0=True)[ir0, :], 'r--', label='weighted RHS')\n",
    "plt.yscale('log')\n",
    "\n",
    "# label\n",
    "plt.legend()\n",
    "plt.xlabel('time (prot)')\n",
    "plt.ylabel('induction (G/s)')\n",
    "plt.title('induct totals (p) spec')"
   ]
  },
  {
   "cell_type": "code",
   "execution_count": 17,
   "id": "4a3b6928",
   "metadata": {},
   "outputs": [],
   "source": [
    "# make a definition of \"error\" (relative difference between two quantities in terms of \"my_abs\" above)\n",
    "# for this, will average over time axis (axis = 1)\n",
    "# returns \"errors\" at each radius sampled (array of shape (nr,))\n",
    "def get_err(quant1, quant2, sslice=False, subl0=False):\n",
    "    numer = np.mean(my_abs(quant1 - quant2, sslice=sslice, subl0=subl0),axis=1) # difference\n",
    "    denom = np.mean(my_abs(quant1 + quant2, sslice=sslice, subl0=subl0),axis=1)/2 # average\n",
    "    return numer/denom"
   ]
  },
  {
   "cell_type": "code",
   "execution_count": 18,
   "id": "e07e6d44",
   "metadata": {
    "scrolled": true
   },
   "outputs": [
    {
     "data": {
      "image/png": "[encoded data removed]",
      "text/plain": [
       "<Figure size 360x288 with 1 Axes>"
      ]
     },
     "metadata": {
      "needs_background": "light"
     },
     "output_type": "display_data"
    }
   ],
   "source": [
    "# plot errors in stream function equations (ignore l = 0 bit)\n",
    "rsun = 6.96e10\n",
    "rr = spec.radius/rsun\n",
    "plt.figure(figsize=(5, 4))\n",
    "plt.scatter(rr, get_err(br_dt, br_rhs, subl0=True), label='Br eq')\n",
    "plt.scatter(rr, get_err(bt_dt, bt_rhs), label='Bt eq')\n",
    "plt.scatter(rr, get_err(bp_dt, bp_rhs), label='Bp eq')\n",
    "plt.yscale('log')\n",
    "plt.xlabel('r/rsun')\n",
    "plt.title(dirtag + ' ERR B EQS')\n",
    "plt.legend()\n",
    "plt.tight_layout()\n",
    "plt.savefig(dirtag + '_err_ind.pdf')"
   ]
  },
  {
   "cell_type": "code",
   "execution_count": 19,
   "id": "9b95d8ac",
   "metadata": {
    "scrolled": true
   },
   "outputs": [
    {
     "name": "stdout",
     "output_type": "stream",
     "text": [
      "Br eq err =  [1.64069709e-02 1.60930693e-02 2.57201902e-02 4.06852281e-02\n",
      " 1.88005566e+00 2.19823259e-04 1.59412758e-04 4.36509355e-04\n",
      " 1.33062252e-04]\n",
      "Bt eq err =  [4.22385968e-02 3.16286793e-02 4.37736605e-02 5.46568890e-02\n",
      " 1.98751547e+00 1.83656677e-05 2.69631361e-05 5.98967498e-05\n",
      " 1.45473473e-04]\n",
      "Bp eq err =  [7.07318334e-02 5.39483373e-02 7.95158779e-02 9.90648584e-02\n",
      " 1.99863272e+00 1.54417334e-05 3.55314255e-05 4.32793106e-05\n",
      " 2.03750395e-04]\n"
     ]
    }
   ],
   "source": [
    "# print these errors\n",
    "print ('Br eq err = ', get_err(br_dt, br_rhs, subl0=True))\n",
    "print ('Bt eq err = ', get_err(bt_dt, bt_rhs))\n",
    "print ('Bp eq err = ', get_err(bp_dt, bp_rhs))"
   ]
  },
  {
   "cell_type": "code",
   "execution_count": 20,
   "id": "a4312faf",
   "metadata": {},
   "outputs": [],
   "source": [
    "# repeat everything for shell_spectra"
   ]
  },
  {
   "cell_type": "code",
   "execution_count": 21,
   "id": "43babcaa",
   "metadata": {},
   "outputs": [
    {
     "name": "stdout",
     "output_type": "stream",
     "text": [
      "/nobackup/lmatilsk/case_M-Prm4.0_fixedAeq/00_induction_nonlinear_nt1536/Shell_Slices/26550025\n"
     ]
    }
   ],
   "source": [
    "radatadir = dirname + 'Shell_Slices/'\n",
    "the_file = radatadir + os.listdir(radatadir)[0]\n",
    "sslice = Shell_Slices(the_file,'')\n",
    "print(the_file)"
   ]
  },
  {
   "cell_type": "code",
   "execution_count": 22,
   "id": "c80b8db2",
   "metadata": {
    "scrolled": true
   },
   "outputs": [
    {
     "name": "stdout",
     "output_type": "stream",
     "text": [
      "irvals =  [ 13  21  31  42  63 136 154 167 177]\n",
      "r/rsun =  [0.92257665 0.88888912 0.83548624 0.77648689 0.71870059 0.66109085\n",
      " 0.6034544  0.5476774  0.51231082]\n",
      "qvals =  [ 801  802  803 1604 1609 1614 2911 2912 2913]\n"
     ]
    }
   ],
   "source": [
    "# break up data\n",
    "vals_ss = sslice.vals\n",
    "lut_ss = sslice.lut\n",
    "\n",
    "print ('irvals = ', irvals)\n",
    "print ('r/rsun = ', spec.radius/common.rsun)\n",
    "print ('qvals = ', sslice.qv)"
   ]
  },
  {
   "cell_type": "code",
   "execution_count": 23,
   "id": "81f6fc5f",
   "metadata": {},
   "outputs": [
    {
     "name": "stdout",
     "output_type": "stream",
     "text": [
      "(3072, 1536, 9, 9, 25)\n"
     ]
    }
   ],
   "source": [
    "print (np.shape(vals_ss))"
   ]
  },
  {
   "cell_type": "code",
   "execution_count": 24,
   "id": "29772198",
   "metadata": {},
   "outputs": [
    {
     "data": {
      "text/plain": [
       "1.0"
      ]
     },
     "execution_count": 24,
     "metadata": {},
     "output_type": "execute_result"
    }
   ],
   "source": [
    "# lut and lut_ss are the same\n",
    "np.sum(lut==lut_ss)/np.size(lut)"
   ]
  },
  {
   "cell_type": "code",
   "execution_count": 25,
   "id": "3302335d",
   "metadata": {},
   "outputs": [],
   "source": [
    "# Br  equation\n",
    "br_ss = vals_ss[..., lut[801], :]\n",
    "indr_ss = vals_ss[..., lut[1604], :]\n",
    "diffr_ss = vals_ss[..., lut[2911], :]\n",
    "\n",
    "# Bt  equation\n",
    "bt_ss = vals_ss[..., lut[802], :]\n",
    "indt_ss = vals_ss[..., lut[1609], :]\n",
    "difft_ss = vals_ss[..., lut[2912], :]\n",
    "\n",
    "# Bp  equation\n",
    "bp_ss = vals_ss[..., lut[803], :]\n",
    "indp_ss = vals_ss[..., lut[1614], :]\n",
    "diffp_ss = vals_ss[..., lut[2913], :]"
   ]
  },
  {
   "cell_type": "code",
   "execution_count": 26,
   "id": "0b145a25",
   "metadata": {},
   "outputs": [],
   "source": [
    "# get lhs = d var / dt\n",
    "br_dt_ss = get_ddt(br_ss)\n",
    "bt_dt_ss = get_ddt(bt_ss)\n",
    "bp_dt_ss = get_ddt(bp_ss)"
   ]
  },
  {
   "cell_type": "code",
   "execution_count": 27,
   "id": "c879e5a5",
   "metadata": {},
   "outputs": [],
   "source": [
    "# get weighted rhs\n",
    "br_rhs_ss = get_weighted_rhs(diffr_ss, indr_ss)\n",
    "bt_rhs_ss = get_weighted_rhs(difft_ss, indt_ss)\n",
    "bp_rhs_ss = get_weighted_rhs(diffp_ss, indp_ss)"
   ]
  },
  {
   "cell_type": "code",
   "execution_count": 28,
   "id": "cc4179ce",
   "metadata": {},
   "outputs": [
    {
     "data": {
      "text/plain": [
       "Text(0.5, 1.0, 'induct totals (r) sslice')"
      ]
     },
     "execution_count": 28,
     "metadata": {},
     "output_type": "execute_result"
    },
    {
     "data": {
      "image/png": "[encoded data removed]",
      "text/plain": [
       "<Figure size 432x288 with 1 Axes>"
      ]
     },
     "metadata": {
      "needs_background": "light"
     },
     "output_type": "display_data"
    }
   ],
   "source": [
    "# plot the B_r equation\n",
    "plt.plot(t[2:], my_abs(br_dt_ss - br_rhs_ss, subl0=True)[ir0, :], 'b', label='LHS - RHS')\n",
    "plt.plot(t[2:], my_abs(br_dt_ss, subl0=True)[ir0, :], 'k', label='dB/dt (numderiv)')\n",
    "plt.plot(t[2:], my_abs(br_rhs_ss, subl0=True)[ir0, :], 'r--', label='weighted RHS')\n",
    "plt.yscale('log')\n",
    "\n",
    "# label\n",
    "plt.legend()\n",
    "plt.xlabel('time (prot)')\n",
    "plt.ylabel('induction (G/s)')\n",
    "plt.title('induct totals (r) sslice')"
   ]
  },
  {
   "cell_type": "code",
   "execution_count": 29,
   "id": "d158e666",
   "metadata": {},
   "outputs": [
    {
     "data": {
      "text/plain": [
       "Text(0.5, 1.0, 'induct totals (t) sslice')"
      ]
     },
     "execution_count": 29,
     "metadata": {},
     "output_type": "execute_result"
    },
    {
     "data": {
      "image/png": "[encoded data removed]",
      "text/plain": [
       "<Figure size 432x288 with 1 Axes>"
      ]
     },
     "metadata": {
      "needs_background": "light"
     },
     "output_type": "display_data"
    }
   ],
   "source": [
    "# plot the B_t equation\n",
    "plt.plot(t[2:], my_abs(bt_dt_ss - bt_rhs_ss, subl0=True)[ir0, :], 'b', label='LHS - RHS')\n",
    "plt.plot(t[2:], my_abs(bt_dt_ss, subl0=True)[ir0, :], 'k', label='dB/dt (numderiv)')\n",
    "plt.plot(t[2:], my_abs(bt_rhs_ss, subl0=True)[ir0, :], 'r--', label='weighted RHS')\n",
    "plt.yscale('log')\n",
    "\n",
    "# label\n",
    "plt.legend()\n",
    "plt.xlabel('time (prot)')\n",
    "plt.ylabel('induction (G/s)')\n",
    "plt.title('induct totals (t) sslice')"
   ]
  },
  {
   "cell_type": "code",
   "execution_count": 30,
   "id": "7cd0816c",
   "metadata": {},
   "outputs": [
    {
     "data": {
      "text/plain": [
       "Text(0.5, 1.0, 'induct totals (p) sslice')"
      ]
     },
     "execution_count": 30,
     "metadata": {},
     "output_type": "execute_result"
    },
    {
     "data": {
      "image/png": "[encoded data removed]",
      "text/plain": [
       "<Figure size 432x288 with 1 Axes>"
      ]
     },
     "metadata": {
      "needs_background": "light"
     },
     "output_type": "display_data"
    }
   ],
   "source": [
    "# plot the B_p equation\n",
    "plt.plot(t[2:], my_abs(bp_dt_ss - bp_rhs_ss, subl0=True)[ir0, :], 'b', label='LHS - RHS')\n",
    "plt.plot(t[2:], my_abs(bp_dt_ss, subl0=True)[ir0, :], 'k', label='dB/dt (numderiv)')\n",
    "plt.plot(t[2:], my_abs(bp_rhs_ss, subl0=True)[ir0, :], 'r--', label='weighted RHS')\n",
    "plt.yscale('log')\n",
    "\n",
    "# label\n",
    "plt.legend()\n",
    "plt.xlabel('time (prot)')\n",
    "plt.ylabel('induction (G/s)')\n",
    "plt.title('induct totals (p) sslice')"
   ]
  },
  {
   "cell_type": "code",
   "execution_count": 31,
   "id": "b75c96d7",
   "metadata": {},
   "outputs": [],
   "source": [
    "# make a definition of \"error\" (relative difference between two quantities in terms of \"my_abs\" above)\n",
    "# for this, will average over time axis (axis = 1)\n",
    "# returns \"errors\" at each radius sampled (array of shape (nr,))\n",
    "def get_err(quant1, quant2, sslice=False, subl0=False):\n",
    "    numer = np.mean(my_abs(quant1 - quant2, sslice=sslice, subl0=subl0),axis=1) # difference\n",
    "    denom = np.mean(my_abs(quant1 + quant2, sslice=sslice, subl0=subl0),axis=1)/2 # average\n",
    "    return numer/denom"
   ]
  },
  {
   "cell_type": "code",
   "execution_count": 32,
   "id": "fbd25f93",
   "metadata": {
    "scrolled": true
   },
   "outputs": [
    {
     "data": {
      "image/png": "[encoded data removed]",
      "text/plain": [
       "<Figure size 360x288 with 1 Axes>"
      ]
     },
     "metadata": {
      "needs_background": "light"
     },
     "output_type": "display_data"
    }
   ],
   "source": [
    "# plot errors in stream function equations (ignore l = 0 bit)\n",
    "rsun = 6.96e10\n",
    "rr = spec.radius/rsun\n",
    "plt.figure(figsize=(5, 4))\n",
    "plt.scatter(rr, get_err(br_dt_ss, br_rhs_ss, subl0=True), label='Br eq')\n",
    "plt.scatter(rr, get_err(bt_dt_ss, bt_rhs_ss), label='Bt eq')\n",
    "plt.scatter(rr, get_err(bp_dt_ss, bp_rhs_ss), label='Bp eq')\n",
    "plt.yscale('log')\n",
    "plt.xlabel('r/rsun')\n",
    "plt.title(dirtag + ' ERR B EQS (SLICE)')\n",
    "plt.legend()\n",
    "plt.tight_layout()\n",
    "plt.savefig(dirtag + '_err_ind_sslice.pdf')"
   ]
  },
  {
   "cell_type": "code",
   "execution_count": 33,
   "id": "714f4381",
   "metadata": {
    "scrolled": true
   },
   "outputs": [
    {
     "name": "stdout",
     "output_type": "stream",
     "text": [
      "Br eq err slice =  [1.62354397e-02 1.58332776e-02 2.51420465e-02 3.90806495e-02\n",
      " 1.85249710e+00 1.85423072e-04 1.19937264e-04 3.29352669e-04\n",
      " 1.02058449e-04]\n",
      "Bt eq err slice =  [3.99428043e-02 3.08246073e-02 4.24543978e-02 5.21790952e-02\n",
      " 1.98455737e+00 1.68119575e-05 2.42231169e-05 5.45418483e-05\n",
      " 1.33420867e-04]\n",
      "Bp eq err slice =  [6.64540999e-02 5.27641082e-02 7.78038343e-02 9.46758129e-02\n",
      " 1.99792607e+00 1.45930199e-05 3.32708470e-05 4.35780362e-05\n",
      " 1.95907679e-04]\n"
     ]
    }
   ],
   "source": [
    "# print these errors\n",
    "print ('Br eq err slice = ', get_err(br_dt_ss, br_rhs_ss, subl0=True))\n",
    "print ('Bt eq err slice = ', get_err(bt_dt_ss, bt_rhs_ss))\n",
    "print ('Bp eq err slice = ', get_err(bp_dt_ss, bp_rhs_ss))"
   ]
  },
  {
   "cell_type": "code",
   "execution_count": null,
   "id": "fe4c3a82",
   "metadata": {},
   "outputs": [],
   "source": []
  }
 ],
 "metadata": {
  "kernelspec": {
   "display_name": "Python 3",
   "language": "python",
   "name": "python3"
  },
  "language_info": {
   "codemirror_mode": {
    "name": "ipython",
    "version": 3
   },
   "file_extension": ".py",
   "mimetype": "text/x-python",
   "name": "python",
   "nbconvert_exporter": "python",
   "pygments_lexer": "ipython3",
   "version": "3.7.10"
  }
 },
 "nbformat": 4,
 "nbformat_minor": 5
}
